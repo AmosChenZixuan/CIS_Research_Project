{
 "cells": [
  {
   "cell_type": "code",
   "execution_count": 140,
   "metadata": {},
   "outputs": [],
   "source": [
    "import pandas as pd\n",
    "import numpy as np"
   ]
  },
  {
   "cell_type": "markdown",
   "metadata": {},
   "source": [
    "# Dataset 1"
   ]
  },
  {
   "cell_type": "code",
   "execution_count": 141,
   "metadata": {},
   "outputs": [],
   "source": [
    "data_math = pd.read_csv(\"Data/student-mat.csv\", sep = \";\")"
   ]
  },
  {
   "cell_type": "code",
   "execution_count": 143,
   "metadata": {
    "scrolled": true
   },
   "outputs": [
    {
     "data": {
      "text/html": [
       "<div>\n",
       "<style scoped>\n",
       "    .dataframe tbody tr th:only-of-type {\n",
       "        vertical-align: middle;\n",
       "    }\n",
       "\n",
       "    .dataframe tbody tr th {\n",
       "        vertical-align: top;\n",
       "    }\n",
       "\n",
       "    .dataframe thead th {\n",
       "        text-align: right;\n",
       "    }\n",
       "</style>\n",
       "<table border=\"1\" class=\"dataframe\">\n",
       "  <thead>\n",
       "    <tr style=\"text-align: right;\">\n",
       "      <th></th>\n",
       "      <th>school</th>\n",
       "      <th>sex</th>\n",
       "      <th>age</th>\n",
       "      <th>address</th>\n",
       "      <th>famsize</th>\n",
       "      <th>Pstatus</th>\n",
       "      <th>Medu</th>\n",
       "      <th>Fedu</th>\n",
       "      <th>Mjob</th>\n",
       "      <th>Fjob</th>\n",
       "      <th>...</th>\n",
       "      <th>famrel</th>\n",
       "      <th>freetime</th>\n",
       "      <th>goout</th>\n",
       "      <th>Dalc</th>\n",
       "      <th>Walc</th>\n",
       "      <th>health</th>\n",
       "      <th>absences</th>\n",
       "      <th>G1</th>\n",
       "      <th>G2</th>\n",
       "      <th>G3</th>\n",
       "    </tr>\n",
       "  </thead>\n",
       "  <tbody>\n",
       "    <tr>\n",
       "      <th>0</th>\n",
       "      <td>GP</td>\n",
       "      <td>F</td>\n",
       "      <td>18</td>\n",
       "      <td>U</td>\n",
       "      <td>GT3</td>\n",
       "      <td>A</td>\n",
       "      <td>4</td>\n",
       "      <td>4</td>\n",
       "      <td>at_home</td>\n",
       "      <td>teacher</td>\n",
       "      <td>...</td>\n",
       "      <td>4</td>\n",
       "      <td>3</td>\n",
       "      <td>4</td>\n",
       "      <td>1</td>\n",
       "      <td>1</td>\n",
       "      <td>3</td>\n",
       "      <td>6</td>\n",
       "      <td>5</td>\n",
       "      <td>6</td>\n",
       "      <td>6</td>\n",
       "    </tr>\n",
       "    <tr>\n",
       "      <th>1</th>\n",
       "      <td>GP</td>\n",
       "      <td>F</td>\n",
       "      <td>17</td>\n",
       "      <td>U</td>\n",
       "      <td>GT3</td>\n",
       "      <td>T</td>\n",
       "      <td>1</td>\n",
       "      <td>1</td>\n",
       "      <td>at_home</td>\n",
       "      <td>other</td>\n",
       "      <td>...</td>\n",
       "      <td>5</td>\n",
       "      <td>3</td>\n",
       "      <td>3</td>\n",
       "      <td>1</td>\n",
       "      <td>1</td>\n",
       "      <td>3</td>\n",
       "      <td>4</td>\n",
       "      <td>5</td>\n",
       "      <td>5</td>\n",
       "      <td>6</td>\n",
       "    </tr>\n",
       "    <tr>\n",
       "      <th>2</th>\n",
       "      <td>GP</td>\n",
       "      <td>F</td>\n",
       "      <td>15</td>\n",
       "      <td>U</td>\n",
       "      <td>LE3</td>\n",
       "      <td>T</td>\n",
       "      <td>1</td>\n",
       "      <td>1</td>\n",
       "      <td>at_home</td>\n",
       "      <td>other</td>\n",
       "      <td>...</td>\n",
       "      <td>4</td>\n",
       "      <td>3</td>\n",
       "      <td>2</td>\n",
       "      <td>2</td>\n",
       "      <td>3</td>\n",
       "      <td>3</td>\n",
       "      <td>10</td>\n",
       "      <td>7</td>\n",
       "      <td>8</td>\n",
       "      <td>10</td>\n",
       "    </tr>\n",
       "    <tr>\n",
       "      <th>3</th>\n",
       "      <td>GP</td>\n",
       "      <td>F</td>\n",
       "      <td>15</td>\n",
       "      <td>U</td>\n",
       "      <td>GT3</td>\n",
       "      <td>T</td>\n",
       "      <td>4</td>\n",
       "      <td>2</td>\n",
       "      <td>health</td>\n",
       "      <td>services</td>\n",
       "      <td>...</td>\n",
       "      <td>3</td>\n",
       "      <td>2</td>\n",
       "      <td>2</td>\n",
       "      <td>1</td>\n",
       "      <td>1</td>\n",
       "      <td>5</td>\n",
       "      <td>2</td>\n",
       "      <td>15</td>\n",
       "      <td>14</td>\n",
       "      <td>15</td>\n",
       "    </tr>\n",
       "    <tr>\n",
       "      <th>4</th>\n",
       "      <td>GP</td>\n",
       "      <td>F</td>\n",
       "      <td>16</td>\n",
       "      <td>U</td>\n",
       "      <td>GT3</td>\n",
       "      <td>T</td>\n",
       "      <td>3</td>\n",
       "      <td>3</td>\n",
       "      <td>other</td>\n",
       "      <td>other</td>\n",
       "      <td>...</td>\n",
       "      <td>4</td>\n",
       "      <td>3</td>\n",
       "      <td>2</td>\n",
       "      <td>1</td>\n",
       "      <td>2</td>\n",
       "      <td>5</td>\n",
       "      <td>4</td>\n",
       "      <td>6</td>\n",
       "      <td>10</td>\n",
       "      <td>10</td>\n",
       "    </tr>\n",
       "  </tbody>\n",
       "</table>\n",
       "<p>5 rows × 33 columns</p>\n",
       "</div>"
      ],
      "text/plain": [
       "  school sex  age address famsize Pstatus  Medu  Fedu     Mjob      Fjob  ...  \\\n",
       "0     GP   F   18       U     GT3       A     4     4  at_home   teacher  ...   \n",
       "1     GP   F   17       U     GT3       T     1     1  at_home     other  ...   \n",
       "2     GP   F   15       U     LE3       T     1     1  at_home     other  ...   \n",
       "3     GP   F   15       U     GT3       T     4     2   health  services  ...   \n",
       "4     GP   F   16       U     GT3       T     3     3    other     other  ...   \n",
       "\n",
       "  famrel freetime  goout  Dalc  Walc health absences  G1  G2  G3  \n",
       "0      4        3      4     1     1      3        6   5   6   6  \n",
       "1      5        3      3     1     1      3        4   5   5   6  \n",
       "2      4        3      2     2     3      3       10   7   8  10  \n",
       "3      3        2      2     1     1      5        2  15  14  15  \n",
       "4      4        3      2     1     2      5        4   6  10  10  \n",
       "\n",
       "[5 rows x 33 columns]"
      ]
     },
     "execution_count": 143,
     "metadata": {},
     "output_type": "execute_result"
    }
   ],
   "source": [
    "data_math.head()"
   ]
  },
  {
   "cell_type": "code",
   "execution_count": 131,
   "metadata": {},
   "outputs": [
    {
     "name": "stdout",
     "output_type": "stream",
     "text": [
      "15\n"
     ]
    }
   ],
   "source": [
    "print (min(data_math['age']))"
   ]
  },
  {
   "cell_type": "code",
   "execution_count": 132,
   "metadata": {},
   "outputs": [
    {
     "data": {
      "text/plain": [
       "school        0\n",
       "sex           0\n",
       "age           0\n",
       "address       0\n",
       "famsize       0\n",
       "Pstatus       0\n",
       "Medu          0\n",
       "Fedu          0\n",
       "Mjob          0\n",
       "Fjob          0\n",
       "reason        0\n",
       "guardian      0\n",
       "traveltime    0\n",
       "studytime     0\n",
       "failures      0\n",
       "schoolsup     0\n",
       "famsup        0\n",
       "paid          0\n",
       "activities    0\n",
       "nursery       0\n",
       "higher        0\n",
       "internet      0\n",
       "romantic      0\n",
       "famrel        0\n",
       "freetime      0\n",
       "goout         0\n",
       "Dalc          0\n",
       "Walc          0\n",
       "health        0\n",
       "absences      0\n",
       "G1            0\n",
       "G2            0\n",
       "G3            0\n",
       "dtype: int64"
      ]
     },
     "execution_count": 132,
     "metadata": {},
     "output_type": "execute_result"
    }
   ],
   "source": [
    "data_math.isnull().sum()\n",
    "# No need to filter null "
   ]
  },
  {
   "cell_type": "code",
   "execution_count": 139,
   "metadata": {},
   "outputs": [
    {
     "data": {
      "text/html": [
       "<div>\n",
       "<style scoped>\n",
       "    .dataframe tbody tr th:only-of-type {\n",
       "        vertical-align: middle;\n",
       "    }\n",
       "\n",
       "    .dataframe tbody tr th {\n",
       "        vertical-align: top;\n",
       "    }\n",
       "\n",
       "    .dataframe thead th {\n",
       "        text-align: right;\n",
       "    }\n",
       "</style>\n",
       "<table border=\"1\" class=\"dataframe\">\n",
       "  <thead>\n",
       "    <tr style=\"text-align: right;\">\n",
       "      <th></th>\n",
       "      <th>studytime_1</th>\n",
       "      <th>studytime_2</th>\n",
       "      <th>studytime_3</th>\n",
       "      <th>studytime_4</th>\n",
       "    </tr>\n",
       "  </thead>\n",
       "  <tbody>\n",
       "    <tr>\n",
       "      <th>0</th>\n",
       "      <td>0</td>\n",
       "      <td>1</td>\n",
       "      <td>0</td>\n",
       "      <td>0</td>\n",
       "    </tr>\n",
       "    <tr>\n",
       "      <th>1</th>\n",
       "      <td>0</td>\n",
       "      <td>1</td>\n",
       "      <td>0</td>\n",
       "      <td>0</td>\n",
       "    </tr>\n",
       "    <tr>\n",
       "      <th>2</th>\n",
       "      <td>0</td>\n",
       "      <td>1</td>\n",
       "      <td>0</td>\n",
       "      <td>0</td>\n",
       "    </tr>\n",
       "    <tr>\n",
       "      <th>3</th>\n",
       "      <td>0</td>\n",
       "      <td>0</td>\n",
       "      <td>1</td>\n",
       "      <td>0</td>\n",
       "    </tr>\n",
       "    <tr>\n",
       "      <th>4</th>\n",
       "      <td>0</td>\n",
       "      <td>1</td>\n",
       "      <td>0</td>\n",
       "      <td>0</td>\n",
       "    </tr>\n",
       "    <tr>\n",
       "      <th>...</th>\n",
       "      <td>...</td>\n",
       "      <td>...</td>\n",
       "      <td>...</td>\n",
       "      <td>...</td>\n",
       "    </tr>\n",
       "    <tr>\n",
       "      <th>390</th>\n",
       "      <td>0</td>\n",
       "      <td>1</td>\n",
       "      <td>0</td>\n",
       "      <td>0</td>\n",
       "    </tr>\n",
       "    <tr>\n",
       "      <th>391</th>\n",
       "      <td>1</td>\n",
       "      <td>0</td>\n",
       "      <td>0</td>\n",
       "      <td>0</td>\n",
       "    </tr>\n",
       "    <tr>\n",
       "      <th>392</th>\n",
       "      <td>1</td>\n",
       "      <td>0</td>\n",
       "      <td>0</td>\n",
       "      <td>0</td>\n",
       "    </tr>\n",
       "    <tr>\n",
       "      <th>393</th>\n",
       "      <td>1</td>\n",
       "      <td>0</td>\n",
       "      <td>0</td>\n",
       "      <td>0</td>\n",
       "    </tr>\n",
       "    <tr>\n",
       "      <th>394</th>\n",
       "      <td>1</td>\n",
       "      <td>0</td>\n",
       "      <td>0</td>\n",
       "      <td>0</td>\n",
       "    </tr>\n",
       "  </tbody>\n",
       "</table>\n",
       "<p>395 rows × 4 columns</p>\n",
       "</div>"
      ],
      "text/plain": [
       "     studytime_1  studytime_2  studytime_3  studytime_4\n",
       "0              0            1            0            0\n",
       "1              0            1            0            0\n",
       "2              0            1            0            0\n",
       "3              0            0            1            0\n",
       "4              0            1            0            0\n",
       "..           ...          ...          ...          ...\n",
       "390            0            1            0            0\n",
       "391            1            0            0            0\n",
       "392            1            0            0            0\n",
       "393            1            0            0            0\n",
       "394            1            0            0            0\n",
       "\n",
       "[395 rows x 4 columns]"
      ]
     },
     "execution_count": 139,
     "metadata": {},
     "output_type": "execute_result"
    }
   ],
   "source": [
    "# data_math = pd.concat([data_exam, pd.get_dummies(data_exam['school'], prefix = 'school')], axis = 1)\n",
    "# data_exam = data_exam.drop(['school'], axis = 1)\n",
    "# data_exam = pd.concat([data_exam, pd.get_dummies(data_exam['parental level of education'], prefix = 'education')], axis = 1)\n",
    "# data_exam = data_exam.drop(['parental level of education'], axis = 1)\n",
    "# data_exam = pd.concat([data_exam, pd.get_dummies(data_exam['race/ethnicity'], prefix = 'race')], axis = 1)\n",
    "# data_exam = data_exam.drop(['race/ethnicity'], axis = 1)\n",
    "# data_exam = pd.concat([data_exam, pd.get_dummies(data_exam['lunch'], prefix = 'lunch')], axis = 1)\n",
    "# data_exam = data_exam.drop(['lunch'], axis = 1)\n",
    "# data_exam = pd.concat([data_exam, pd.get_dummies(data_exam['test preparation course'], prefix = 'prepare')], axis = 1)\n",
    "# data_exam = data_exam.drop(['test preparation course','lunch_standard', 'prepare_none'], axis = 1)\n",
    "# Score = []\n",
    "# grade = []\n",
    "# for i in range(len(data_exam)):\n",
    "#     Score.append(int((data_exam['math score'][i] + data_exam['reading score'][i] + data_exam['writing score'][i])/300*1000)/1000*100)\n",
    "# data_exam['Score'] = Score\n",
    "# data_exam = data_exam.drop(['math score', 'reading score', 'writing score'], axis = 1)\n",
    "# for i in range(len(data_exam)):\n",
    "#     if Score[i] >= 90:\n",
    "#         grade.append('A')\n",
    "#     elif 80 <= Score[i] < 90:\n",
    "#         grade.append('B')\n",
    "#     elif 70 <= Score[i] < 80:\n",
    "#         grade.append('C')\n",
    "#     else:\n",
    "#         grade.append('D')\n",
    "# data_exam['Grade'] = grade\n",
    "\n",
    "\n",
    "pd.get_dummies(data_math['studytime'], prefix = 'studytime')\n"
   ]
  },
  {
   "cell_type": "code",
   "execution_count": 134,
   "metadata": {},
   "outputs": [],
   "source": [
    "data_math = pd.concat([data_math, pd.get_dummies(data_math['school'], prefix = 'school')], axis = 1)\n",
    "data_math = data_math.drop(['school','school_MS'], axis = 1)\n",
    "data_math = pd.concat([data_math, pd.get_dummies(data_math['sex'], prefix = 'sex')], axis = 1)\n",
    "data_math = data_math.drop(['sex','sex_M'], axis = 1)\n",
    "data_math = pd.concat([data_math, pd.get_dummies(data_math['age'], prefix = 'age')], axis = 1)\n",
    "data_math = data_math.drop(['age'], axis = 1)\n",
    "data_math = pd.concat([data_math, pd.get_dummies(data_math['address'], prefix = 'address')], axis = 1)\n",
    "data_math = data_math.drop(['address','address_R'], axis = 1)\n",
    "data_math = pd.concat([data_math, pd.get_dummies(data_math['Pstatus'], prefix = 'Pstatus')], axis = 1)\n",
    "data_math = data_math.drop(['Pstatus','Pstatus_A'], axis = 1)\n",
    "data_math = pd.concat([data_math, pd.get_dummies(data_math['Medu'], prefix = 'Medu')], axis = 1)\n",
    "data_math = data_math.drop(['Medu'], axis = 1)\n",
    "data_math = pd.concat([data_math, pd.get_dummies(data_math['guardian'], prefix = 'guardian')], axis = 1)\n",
    "data_math = data_math.drop(['guardian'], axis = 1)\n",
    "data_math = pd.concat([data_math, pd.get_dummies(data_math['famsize'], prefix = 'famsize')], axis = 1)\n",
    "data_math = data_math.drop(['famsize','famsize_GT3'], axis = 1)\n",
    "data_math = pd.concat([data_math, pd.get_dummies(data_math['famrel'], prefix = 'famrel')], axis = 1)\n",
    "data_math = data_math.drop(['famrel'], axis = 1)\n",
    "data_math = pd.concat([data_math, pd.get_dummies(data_math['reason'], prefix = 'reason')], axis = 1)\n",
    "data_math = data_math.drop(['reason'], axis = 1)\n",
    "data_math = pd.concat([data_math, pd.get_dummies(data_math['traveltime'], prefix = 'traveltime')], axis = 1)\n",
    "data_math = data_math.drop(['traveltime'], axis = 1)\n",
    "data_math = pd.concat([data_math, pd.get_dummies(data_math['studytime'], prefix = 'studytime')], axis = 1)\n",
    "data_math = data_math.drop(['studytime'], axis = 1)\n"
   ]
  },
  {
   "cell_type": "code",
   "execution_count": 114,
   "metadata": {},
   "outputs": [
    {
     "data": {
      "text/html": [
       "<div>\n",
       "<style scoped>\n",
       "    .dataframe tbody tr th:only-of-type {\n",
       "        vertical-align: middle;\n",
       "    }\n",
       "\n",
       "    .dataframe tbody tr th {\n",
       "        vertical-align: top;\n",
       "    }\n",
       "\n",
       "    .dataframe thead th {\n",
       "        text-align: right;\n",
       "    }\n",
       "</style>\n",
       "<table border=\"1\" class=\"dataframe\">\n",
       "  <thead>\n",
       "    <tr style=\"text-align: right;\">\n",
       "      <th></th>\n",
       "      <th>famsize</th>\n",
       "      <th>Pstatus</th>\n",
       "      <th>Medu</th>\n",
       "      <th>Fedu</th>\n",
       "      <th>Mjob</th>\n",
       "      <th>Fjob</th>\n",
       "      <th>reason</th>\n",
       "      <th>guardian</th>\n",
       "      <th>traveltime</th>\n",
       "      <th>studytime</th>\n",
       "      <th>...</th>\n",
       "      <th>sex_F</th>\n",
       "      <th>age_15</th>\n",
       "      <th>age_16</th>\n",
       "      <th>age_17</th>\n",
       "      <th>age_18</th>\n",
       "      <th>age_19</th>\n",
       "      <th>age_20</th>\n",
       "      <th>age_21</th>\n",
       "      <th>age_22</th>\n",
       "      <th>address_U</th>\n",
       "    </tr>\n",
       "  </thead>\n",
       "  <tbody>\n",
       "    <tr>\n",
       "      <th>0</th>\n",
       "      <td>GT3</td>\n",
       "      <td>A</td>\n",
       "      <td>4</td>\n",
       "      <td>4</td>\n",
       "      <td>at_home</td>\n",
       "      <td>teacher</td>\n",
       "      <td>course</td>\n",
       "      <td>mother</td>\n",
       "      <td>2</td>\n",
       "      <td>2</td>\n",
       "      <td>...</td>\n",
       "      <td>1</td>\n",
       "      <td>0</td>\n",
       "      <td>0</td>\n",
       "      <td>0</td>\n",
       "      <td>1</td>\n",
       "      <td>0</td>\n",
       "      <td>0</td>\n",
       "      <td>0</td>\n",
       "      <td>0</td>\n",
       "      <td>1</td>\n",
       "    </tr>\n",
       "    <tr>\n",
       "      <th>1</th>\n",
       "      <td>GT3</td>\n",
       "      <td>T</td>\n",
       "      <td>1</td>\n",
       "      <td>1</td>\n",
       "      <td>at_home</td>\n",
       "      <td>other</td>\n",
       "      <td>course</td>\n",
       "      <td>father</td>\n",
       "      <td>1</td>\n",
       "      <td>2</td>\n",
       "      <td>...</td>\n",
       "      <td>1</td>\n",
       "      <td>0</td>\n",
       "      <td>0</td>\n",
       "      <td>1</td>\n",
       "      <td>0</td>\n",
       "      <td>0</td>\n",
       "      <td>0</td>\n",
       "      <td>0</td>\n",
       "      <td>0</td>\n",
       "      <td>1</td>\n",
       "    </tr>\n",
       "    <tr>\n",
       "      <th>2</th>\n",
       "      <td>LE3</td>\n",
       "      <td>T</td>\n",
       "      <td>1</td>\n",
       "      <td>1</td>\n",
       "      <td>at_home</td>\n",
       "      <td>other</td>\n",
       "      <td>other</td>\n",
       "      <td>mother</td>\n",
       "      <td>1</td>\n",
       "      <td>2</td>\n",
       "      <td>...</td>\n",
       "      <td>1</td>\n",
       "      <td>1</td>\n",
       "      <td>0</td>\n",
       "      <td>0</td>\n",
       "      <td>0</td>\n",
       "      <td>0</td>\n",
       "      <td>0</td>\n",
       "      <td>0</td>\n",
       "      <td>0</td>\n",
       "      <td>1</td>\n",
       "    </tr>\n",
       "    <tr>\n",
       "      <th>3</th>\n",
       "      <td>GT3</td>\n",
       "      <td>T</td>\n",
       "      <td>4</td>\n",
       "      <td>2</td>\n",
       "      <td>health</td>\n",
       "      <td>services</td>\n",
       "      <td>home</td>\n",
       "      <td>mother</td>\n",
       "      <td>1</td>\n",
       "      <td>3</td>\n",
       "      <td>...</td>\n",
       "      <td>1</td>\n",
       "      <td>1</td>\n",
       "      <td>0</td>\n",
       "      <td>0</td>\n",
       "      <td>0</td>\n",
       "      <td>0</td>\n",
       "      <td>0</td>\n",
       "      <td>0</td>\n",
       "      <td>0</td>\n",
       "      <td>1</td>\n",
       "    </tr>\n",
       "    <tr>\n",
       "      <th>4</th>\n",
       "      <td>GT3</td>\n",
       "      <td>T</td>\n",
       "      <td>3</td>\n",
       "      <td>3</td>\n",
       "      <td>other</td>\n",
       "      <td>other</td>\n",
       "      <td>home</td>\n",
       "      <td>father</td>\n",
       "      <td>1</td>\n",
       "      <td>2</td>\n",
       "      <td>...</td>\n",
       "      <td>1</td>\n",
       "      <td>0</td>\n",
       "      <td>1</td>\n",
       "      <td>0</td>\n",
       "      <td>0</td>\n",
       "      <td>0</td>\n",
       "      <td>0</td>\n",
       "      <td>0</td>\n",
       "      <td>0</td>\n",
       "      <td>1</td>\n",
       "    </tr>\n",
       "  </tbody>\n",
       "</table>\n",
       "<p>5 rows × 40 columns</p>\n",
       "</div>"
      ],
      "text/plain": [
       "  famsize Pstatus  Medu  Fedu     Mjob      Fjob  reason guardian  traveltime  \\\n",
       "0     GT3       A     4     4  at_home   teacher  course   mother           2   \n",
       "1     GT3       T     1     1  at_home     other  course   father           1   \n",
       "2     LE3       T     1     1  at_home     other   other   mother           1   \n",
       "3     GT3       T     4     2   health  services    home   mother           1   \n",
       "4     GT3       T     3     3    other     other    home   father           1   \n",
       "\n",
       "   studytime  ...  sex_F age_15 age_16 age_17 age_18 age_19 age_20 age_21  \\\n",
       "0          2  ...      1      0      0      0      1      0      0      0   \n",
       "1          2  ...      1      0      0      1      0      0      0      0   \n",
       "2          2  ...      1      1      0      0      0      0      0      0   \n",
       "3          3  ...      1      1      0      0      0      0      0      0   \n",
       "4          2  ...      1      0      1      0      0      0      0      0   \n",
       "\n",
       "  age_22  address_U  \n",
       "0      0          1  \n",
       "1      0          1  \n",
       "2      0          1  \n",
       "3      0          1  \n",
       "4      0          1  \n",
       "\n",
       "[5 rows x 40 columns]"
      ]
     },
     "execution_count": 114,
     "metadata": {},
     "output_type": "execute_result"
    }
   ],
   "source": [
    "data_math.head()"
   ]
  },
  {
   "cell_type": "code",
   "execution_count": 6,
   "metadata": {},
   "outputs": [],
   "source": [
    "feats = data_math.drop(['G3'], axis = 1)\n",
    "labels = data_math['G3']"
   ]
  },
  {
   "cell_type": "code",
   "execution_count": 7,
   "metadata": {},
   "outputs": [],
   "source": [
    "from sklearn.neighbors import KNeighborsRegressor\n",
    "from sklearn.model_selection import cross_validate"
   ]
  },
  {
   "cell_type": "code",
   "execution_count": 8,
   "metadata": {},
   "outputs": [],
   "source": [
    "model = KNeighborsRegressor(n_neighbors=2)\n",
    "\n",
    "cv_results = cross_validate(model, feats, labels, cv=5)"
   ]
  },
  {
   "cell_type": "code",
   "execution_count": 9,
   "metadata": {},
   "outputs": [
    {
     "data": {
      "text/plain": [
       "{'fit_time': array([0.00295544, 0.00299096, 0.00195932, 0.00197387, 0.00299215]),\n",
       " 'score_time': array([0.0019958 , 0.00199437, 0.00201559, 0.00199461, 0.00199366]),\n",
       " 'test_score': array([0.73040172, 0.84053898, 0.75276141, 0.82792464, 0.7627562 ])}"
      ]
     },
     "execution_count": 9,
     "metadata": {},
     "output_type": "execute_result"
    }
   ],
   "source": [
    "cv_results"
   ]
  },
  {
   "cell_type": "markdown",
   "metadata": {},
   "source": [
    "# Dataset 2"
   ]
  },
  {
   "cell_type": "code",
   "execution_count": 11,
   "metadata": {},
   "outputs": [],
   "source": [
    "from scipy.io.arff import loadarff"
   ]
  },
  {
   "cell_type": "code",
   "execution_count": 12,
   "metadata": {},
   "outputs": [],
   "source": [
    "data_arff = loadarff('Data/Sapfile1.arff')\n",
    "data_2 = pd.DataFrame(data_arff[0])"
   ]
  },
  {
   "cell_type": "code",
   "execution_count": 13,
   "metadata": {},
   "outputs": [
    {
     "data": {
      "text/html": [
       "<div>\n",
       "<style scoped>\n",
       "    .dataframe tbody tr th:only-of-type {\n",
       "        vertical-align: middle;\n",
       "    }\n",
       "\n",
       "    .dataframe tbody tr th {\n",
       "        vertical-align: top;\n",
       "    }\n",
       "\n",
       "    .dataframe thead th {\n",
       "        text-align: right;\n",
       "    }\n",
       "</style>\n",
       "<table border=\"1\" class=\"dataframe\">\n",
       "  <thead>\n",
       "    <tr style=\"text-align: right;\">\n",
       "      <th></th>\n",
       "      <th>ge</th>\n",
       "      <th>cst</th>\n",
       "      <th>tnp</th>\n",
       "      <th>twp</th>\n",
       "      <th>iap</th>\n",
       "      <th>esp</th>\n",
       "      <th>arr</th>\n",
       "      <th>ms</th>\n",
       "      <th>ls</th>\n",
       "      <th>as</th>\n",
       "      <th>...</th>\n",
       "      <th>fq</th>\n",
       "      <th>mq</th>\n",
       "      <th>fo</th>\n",
       "      <th>mo</th>\n",
       "      <th>nf</th>\n",
       "      <th>sh</th>\n",
       "      <th>ss</th>\n",
       "      <th>me</th>\n",
       "      <th>tt</th>\n",
       "      <th>atd</th>\n",
       "    </tr>\n",
       "  </thead>\n",
       "  <tbody>\n",
       "    <tr>\n",
       "      <th>0</th>\n",
       "      <td>b'F'</td>\n",
       "      <td>b'G'</td>\n",
       "      <td>b'Good'</td>\n",
       "      <td>b'Good'</td>\n",
       "      <td>b'Vg'</td>\n",
       "      <td>b'Good'</td>\n",
       "      <td>b'Y'</td>\n",
       "      <td>b'Unmarried'</td>\n",
       "      <td>b'V'</td>\n",
       "      <td>b'Paid'</td>\n",
       "      <td>...</td>\n",
       "      <td>b'Um'</td>\n",
       "      <td>b'10'</td>\n",
       "      <td>b'Farmer'</td>\n",
       "      <td>b'Housewife'</td>\n",
       "      <td>b'Large'</td>\n",
       "      <td>b'Poor'</td>\n",
       "      <td>b'Govt'</td>\n",
       "      <td>b'Asm'</td>\n",
       "      <td>b'Small'</td>\n",
       "      <td>b'Good'</td>\n",
       "    </tr>\n",
       "    <tr>\n",
       "      <th>1</th>\n",
       "      <td>b'M'</td>\n",
       "      <td>b'OBC'</td>\n",
       "      <td>b'Vg'</td>\n",
       "      <td>b'Vg'</td>\n",
       "      <td>b'Vg'</td>\n",
       "      <td>b'Vg'</td>\n",
       "      <td>b'N'</td>\n",
       "      <td>b'Unmarried'</td>\n",
       "      <td>b'V'</td>\n",
       "      <td>b'Paid'</td>\n",
       "      <td>...</td>\n",
       "      <td>b'Um'</td>\n",
       "      <td>b'Il'</td>\n",
       "      <td>b'Service'</td>\n",
       "      <td>b'Service'</td>\n",
       "      <td>b'Small'</td>\n",
       "      <td>b'Poor'</td>\n",
       "      <td>b'Govt'</td>\n",
       "      <td>b'Asm'</td>\n",
       "      <td>b'Average'</td>\n",
       "      <td>b'Average'</td>\n",
       "    </tr>\n",
       "    <tr>\n",
       "      <th>2</th>\n",
       "      <td>b'F'</td>\n",
       "      <td>b'OBC'</td>\n",
       "      <td>b'Good'</td>\n",
       "      <td>b'Good'</td>\n",
       "      <td>b'Vg'</td>\n",
       "      <td>b'Good'</td>\n",
       "      <td>b'N'</td>\n",
       "      <td>b'Unmarried'</td>\n",
       "      <td>b'V'</td>\n",
       "      <td>b'Paid'</td>\n",
       "      <td>...</td>\n",
       "      <td>b'12'</td>\n",
       "      <td>b'10'</td>\n",
       "      <td>b'Service'</td>\n",
       "      <td>b'Housewife'</td>\n",
       "      <td>b'Average'</td>\n",
       "      <td>b'Average'</td>\n",
       "      <td>b'Govt'</td>\n",
       "      <td>b'Asm'</td>\n",
       "      <td>b'Large'</td>\n",
       "      <td>b'Good'</td>\n",
       "    </tr>\n",
       "    <tr>\n",
       "      <th>3</th>\n",
       "      <td>b'M'</td>\n",
       "      <td>b'MOBC'</td>\n",
       "      <td>b'Pass'</td>\n",
       "      <td>b'Good'</td>\n",
       "      <td>b'Vg'</td>\n",
       "      <td>b'Good'</td>\n",
       "      <td>b'N'</td>\n",
       "      <td>b'Unmarried'</td>\n",
       "      <td>b'V'</td>\n",
       "      <td>b'Paid'</td>\n",
       "      <td>...</td>\n",
       "      <td>b'12'</td>\n",
       "      <td>b'Um'</td>\n",
       "      <td>b'Business'</td>\n",
       "      <td>b'Business'</td>\n",
       "      <td>b'Large'</td>\n",
       "      <td>b'Poor'</td>\n",
       "      <td>b'Govt'</td>\n",
       "      <td>b'Asm'</td>\n",
       "      <td>b'Average'</td>\n",
       "      <td>b'Average'</td>\n",
       "    </tr>\n",
       "    <tr>\n",
       "      <th>4</th>\n",
       "      <td>b'M'</td>\n",
       "      <td>b'G'</td>\n",
       "      <td>b'Good'</td>\n",
       "      <td>b'Good'</td>\n",
       "      <td>b'Vg'</td>\n",
       "      <td>b'Vg'</td>\n",
       "      <td>b'N'</td>\n",
       "      <td>b'Unmarried'</td>\n",
       "      <td>b'V'</td>\n",
       "      <td>b'Paid'</td>\n",
       "      <td>...</td>\n",
       "      <td>b'10'</td>\n",
       "      <td>b'12'</td>\n",
       "      <td>b'Service'</td>\n",
       "      <td>b'Housewife'</td>\n",
       "      <td>b'Large'</td>\n",
       "      <td>b'Poor'</td>\n",
       "      <td>b'Private'</td>\n",
       "      <td>b'Asm'</td>\n",
       "      <td>b'Small'</td>\n",
       "      <td>b'Good'</td>\n",
       "    </tr>\n",
       "  </tbody>\n",
       "</table>\n",
       "<p>5 rows × 22 columns</p>\n",
       "</div>"
      ],
      "text/plain": [
       "     ge      cst      tnp      twp    iap      esp   arr            ms    ls  \\\n",
       "0  b'F'     b'G'  b'Good'  b'Good'  b'Vg'  b'Good'  b'Y'  b'Unmarried'  b'V'   \n",
       "1  b'M'   b'OBC'    b'Vg'    b'Vg'  b'Vg'    b'Vg'  b'N'  b'Unmarried'  b'V'   \n",
       "2  b'F'   b'OBC'  b'Good'  b'Good'  b'Vg'  b'Good'  b'N'  b'Unmarried'  b'V'   \n",
       "3  b'M'  b'MOBC'  b'Pass'  b'Good'  b'Vg'  b'Good'  b'N'  b'Unmarried'  b'V'   \n",
       "4  b'M'     b'G'  b'Good'  b'Good'  b'Vg'    b'Vg'  b'N'  b'Unmarried'  b'V'   \n",
       "\n",
       "        as  ...     fq     mq           fo            mo          nf  \\\n",
       "0  b'Paid'  ...  b'Um'  b'10'    b'Farmer'  b'Housewife'    b'Large'   \n",
       "1  b'Paid'  ...  b'Um'  b'Il'   b'Service'    b'Service'    b'Small'   \n",
       "2  b'Paid'  ...  b'12'  b'10'   b'Service'  b'Housewife'  b'Average'   \n",
       "3  b'Paid'  ...  b'12'  b'Um'  b'Business'   b'Business'    b'Large'   \n",
       "4  b'Paid'  ...  b'10'  b'12'   b'Service'  b'Housewife'    b'Large'   \n",
       "\n",
       "           sh          ss      me          tt         atd  \n",
       "0     b'Poor'     b'Govt'  b'Asm'    b'Small'     b'Good'  \n",
       "1     b'Poor'     b'Govt'  b'Asm'  b'Average'  b'Average'  \n",
       "2  b'Average'     b'Govt'  b'Asm'    b'Large'     b'Good'  \n",
       "3     b'Poor'     b'Govt'  b'Asm'  b'Average'  b'Average'  \n",
       "4     b'Poor'  b'Private'  b'Asm'    b'Small'     b'Good'  \n",
       "\n",
       "[5 rows x 22 columns]"
      ]
     },
     "execution_count": 13,
     "metadata": {},
     "output_type": "execute_result"
    }
   ],
   "source": [
    "data_2.head()"
   ]
  },
  {
   "cell_type": "code",
   "execution_count": 14,
   "metadata": {},
   "outputs": [
    {
     "data": {
      "text/plain": [
       "ge     0\n",
       "cst    0\n",
       "tnp    0\n",
       "twp    0\n",
       "iap    0\n",
       "esp    0\n",
       "arr    0\n",
       "ms     0\n",
       "ls     0\n",
       "as     0\n",
       "fmi    0\n",
       "fs     0\n",
       "fq     0\n",
       "mq     0\n",
       "fo     0\n",
       "mo     0\n",
       "nf     0\n",
       "sh     0\n",
       "ss     0\n",
       "me     0\n",
       "tt     0\n",
       "atd    0\n",
       "dtype: int64"
      ]
     },
     "execution_count": 14,
     "metadata": {},
     "output_type": "execute_result"
    }
   ],
   "source": [
    "data_2.isnull().sum()\n",
    "# No need to filter null."
   ]
  },
  {
   "cell_type": "markdown",
   "metadata": {},
   "source": [
    "# Dataset 3"
   ]
  },
  {
   "cell_type": "code",
   "execution_count": 14,
   "metadata": {},
   "outputs": [],
   "source": [
    "import numpy as np"
   ]
  },
  {
   "cell_type": "code",
   "execution_count": 15,
   "metadata": {},
   "outputs": [],
   "source": [
    "import matplotlib.pyplot as plt"
   ]
  },
  {
   "cell_type": "code",
   "execution_count": 16,
   "metadata": {},
   "outputs": [],
   "source": [
    "data_exam = pd.read_csv(\"Data/StudentsPerformance.csv\")"
   ]
  },
  {
   "cell_type": "code",
   "execution_count": 17,
   "metadata": {
    "scrolled": true
   },
   "outputs": [
    {
     "data": {
      "text/html": [
       "<div>\n",
       "<style scoped>\n",
       "    .dataframe tbody tr th:only-of-type {\n",
       "        vertical-align: middle;\n",
       "    }\n",
       "\n",
       "    .dataframe tbody tr th {\n",
       "        vertical-align: top;\n",
       "    }\n",
       "\n",
       "    .dataframe thead th {\n",
       "        text-align: right;\n",
       "    }\n",
       "</style>\n",
       "<table border=\"1\" class=\"dataframe\">\n",
       "  <thead>\n",
       "    <tr style=\"text-align: right;\">\n",
       "      <th></th>\n",
       "      <th>gender</th>\n",
       "      <th>race/ethnicity</th>\n",
       "      <th>parental level of education</th>\n",
       "      <th>lunch</th>\n",
       "      <th>test preparation course</th>\n",
       "      <th>math score</th>\n",
       "      <th>reading score</th>\n",
       "      <th>writing score</th>\n",
       "    </tr>\n",
       "  </thead>\n",
       "  <tbody>\n",
       "    <tr>\n",
       "      <th>0</th>\n",
       "      <td>female</td>\n",
       "      <td>group B</td>\n",
       "      <td>bachelor's degree</td>\n",
       "      <td>standard</td>\n",
       "      <td>none</td>\n",
       "      <td>72</td>\n",
       "      <td>72</td>\n",
       "      <td>74</td>\n",
       "    </tr>\n",
       "    <tr>\n",
       "      <th>1</th>\n",
       "      <td>female</td>\n",
       "      <td>group C</td>\n",
       "      <td>some college</td>\n",
       "      <td>standard</td>\n",
       "      <td>completed</td>\n",
       "      <td>69</td>\n",
       "      <td>90</td>\n",
       "      <td>88</td>\n",
       "    </tr>\n",
       "    <tr>\n",
       "      <th>2</th>\n",
       "      <td>female</td>\n",
       "      <td>group B</td>\n",
       "      <td>master's degree</td>\n",
       "      <td>standard</td>\n",
       "      <td>none</td>\n",
       "      <td>90</td>\n",
       "      <td>95</td>\n",
       "      <td>93</td>\n",
       "    </tr>\n",
       "    <tr>\n",
       "      <th>3</th>\n",
       "      <td>male</td>\n",
       "      <td>group A</td>\n",
       "      <td>associate's degree</td>\n",
       "      <td>free/reduced</td>\n",
       "      <td>none</td>\n",
       "      <td>47</td>\n",
       "      <td>57</td>\n",
       "      <td>44</td>\n",
       "    </tr>\n",
       "    <tr>\n",
       "      <th>4</th>\n",
       "      <td>male</td>\n",
       "      <td>group C</td>\n",
       "      <td>some college</td>\n",
       "      <td>standard</td>\n",
       "      <td>none</td>\n",
       "      <td>76</td>\n",
       "      <td>78</td>\n",
       "      <td>75</td>\n",
       "    </tr>\n",
       "  </tbody>\n",
       "</table>\n",
       "</div>"
      ],
      "text/plain": [
       "   gender race/ethnicity parental level of education         lunch  \\\n",
       "0  female        group B           bachelor's degree      standard   \n",
       "1  female        group C                some college      standard   \n",
       "2  female        group B             master's degree      standard   \n",
       "3    male        group A          associate's degree  free/reduced   \n",
       "4    male        group C                some college      standard   \n",
       "\n",
       "  test preparation course  math score  reading score  writing score  \n",
       "0                    none          72             72             74  \n",
       "1               completed          69             90             88  \n",
       "2                    none          90             95             93  \n",
       "3                    none          47             57             44  \n",
       "4                    none          76             78             75  "
      ]
     },
     "execution_count": 17,
     "metadata": {},
     "output_type": "execute_result"
    }
   ],
   "source": [
    "data_exam.head()"
   ]
  },
  {
   "cell_type": "code",
   "execution_count": 18,
   "metadata": {},
   "outputs": [
    {
     "data": {
      "text/plain": [
       "gender                         0\n",
       "race/ethnicity                 0\n",
       "parental level of education    0\n",
       "lunch                          0\n",
       "test preparation course        0\n",
       "math score                     0\n",
       "reading score                  0\n",
       "writing score                  0\n",
       "dtype: int64"
      ]
     },
     "execution_count": 18,
     "metadata": {},
     "output_type": "execute_result"
    }
   ],
   "source": [
    "data_exam.isnull().sum()\n",
    "# No need to filter null"
   ]
  },
  {
   "cell_type": "code",
   "execution_count": 19,
   "metadata": {},
   "outputs": [],
   "source": [
    "data_exam = pd.concat([data_exam, pd.get_dummies(data_exam['gender'], prefix = 'Gender')], axis = 1)\n",
    "data_exam = data_exam.drop(['gender','Gender_male'], axis = 1)\n",
    "data_exam = pd.concat([data_exam, pd.get_dummies(data_exam['parental level of education'], prefix = 'education')], axis = 1)\n",
    "data_exam = data_exam.drop(['parental level of education'], axis = 1)\n",
    "data_exam = pd.concat([data_exam, pd.get_dummies(data_exam['race/ethnicity'], prefix = 'race')], axis = 1)\n",
    "data_exam = data_exam.drop(['race/ethnicity'], axis = 1)\n",
    "data_exam = pd.concat([data_exam, pd.get_dummies(data_exam['lunch'], prefix = 'lunch')], axis = 1)\n",
    "data_exam = data_exam.drop(['lunch'], axis = 1)\n",
    "data_exam = pd.concat([data_exam, pd.get_dummies(data_exam['test preparation course'], prefix = 'prepare')], axis = 1)\n",
    "data_exam = data_exam.drop(['test preparation course','lunch_standard', 'prepare_none'], axis = 1)\n",
    "Score = []\n",
    "grade = []\n",
    "for i in range(len(data_exam)):\n",
    "    Score.append(int((data_exam['math score'][i] + data_exam['reading score'][i] + data_exam['writing score'][i])/300*1000)/1000*100)\n",
    "data_exam['Score'] = Score\n",
    "data_exam = data_exam.drop(['math score', 'reading score', 'writing score'], axis = 1)\n",
    "for i in range(len(data_exam)):\n",
    "    if Score[i] >= 90:\n",
    "        grade.append('A')\n",
    "    elif 80 <= Score[i] < 90:\n",
    "        grade.append('B')\n",
    "    elif 70 <= Score[i] < 80:\n",
    "        grade.append('C')\n",
    "    else:\n",
    "        grade.append('D')\n",
    "data_exam['Grade'] = grade"
   ]
  },
  {
   "cell_type": "code",
   "execution_count": 20,
   "metadata": {},
   "outputs": [
    {
     "data": {
      "text/html": [
       "<div>\n",
       "<style scoped>\n",
       "    .dataframe tbody tr th:only-of-type {\n",
       "        vertical-align: middle;\n",
       "    }\n",
       "\n",
       "    .dataframe tbody tr th {\n",
       "        vertical-align: top;\n",
       "    }\n",
       "\n",
       "    .dataframe thead th {\n",
       "        text-align: right;\n",
       "    }\n",
       "</style>\n",
       "<table border=\"1\" class=\"dataframe\">\n",
       "  <thead>\n",
       "    <tr style=\"text-align: right;\">\n",
       "      <th></th>\n",
       "      <th>Gender_female</th>\n",
       "      <th>education_associate's degree</th>\n",
       "      <th>education_bachelor's degree</th>\n",
       "      <th>education_high school</th>\n",
       "      <th>education_master's degree</th>\n",
       "      <th>education_some college</th>\n",
       "      <th>education_some high school</th>\n",
       "      <th>race_group A</th>\n",
       "      <th>race_group B</th>\n",
       "      <th>race_group C</th>\n",
       "      <th>race_group D</th>\n",
       "      <th>race_group E</th>\n",
       "      <th>lunch_free/reduced</th>\n",
       "      <th>prepare_completed</th>\n",
       "      <th>Score</th>\n",
       "      <th>Grade</th>\n",
       "    </tr>\n",
       "  </thead>\n",
       "  <tbody>\n",
       "    <tr>\n",
       "      <th>0</th>\n",
       "      <td>1</td>\n",
       "      <td>0</td>\n",
       "      <td>1</td>\n",
       "      <td>0</td>\n",
       "      <td>0</td>\n",
       "      <td>0</td>\n",
       "      <td>0</td>\n",
       "      <td>0</td>\n",
       "      <td>1</td>\n",
       "      <td>0</td>\n",
       "      <td>0</td>\n",
       "      <td>0</td>\n",
       "      <td>0</td>\n",
       "      <td>0</td>\n",
       "      <td>72.6</td>\n",
       "      <td>C</td>\n",
       "    </tr>\n",
       "    <tr>\n",
       "      <th>1</th>\n",
       "      <td>1</td>\n",
       "      <td>0</td>\n",
       "      <td>0</td>\n",
       "      <td>0</td>\n",
       "      <td>0</td>\n",
       "      <td>1</td>\n",
       "      <td>0</td>\n",
       "      <td>0</td>\n",
       "      <td>0</td>\n",
       "      <td>1</td>\n",
       "      <td>0</td>\n",
       "      <td>0</td>\n",
       "      <td>0</td>\n",
       "      <td>1</td>\n",
       "      <td>82.3</td>\n",
       "      <td>B</td>\n",
       "    </tr>\n",
       "    <tr>\n",
       "      <th>2</th>\n",
       "      <td>1</td>\n",
       "      <td>0</td>\n",
       "      <td>0</td>\n",
       "      <td>0</td>\n",
       "      <td>1</td>\n",
       "      <td>0</td>\n",
       "      <td>0</td>\n",
       "      <td>0</td>\n",
       "      <td>1</td>\n",
       "      <td>0</td>\n",
       "      <td>0</td>\n",
       "      <td>0</td>\n",
       "      <td>0</td>\n",
       "      <td>0</td>\n",
       "      <td>92.6</td>\n",
       "      <td>A</td>\n",
       "    </tr>\n",
       "    <tr>\n",
       "      <th>3</th>\n",
       "      <td>0</td>\n",
       "      <td>1</td>\n",
       "      <td>0</td>\n",
       "      <td>0</td>\n",
       "      <td>0</td>\n",
       "      <td>0</td>\n",
       "      <td>0</td>\n",
       "      <td>1</td>\n",
       "      <td>0</td>\n",
       "      <td>0</td>\n",
       "      <td>0</td>\n",
       "      <td>0</td>\n",
       "      <td>1</td>\n",
       "      <td>0</td>\n",
       "      <td>49.3</td>\n",
       "      <td>D</td>\n",
       "    </tr>\n",
       "    <tr>\n",
       "      <th>4</th>\n",
       "      <td>0</td>\n",
       "      <td>0</td>\n",
       "      <td>0</td>\n",
       "      <td>0</td>\n",
       "      <td>0</td>\n",
       "      <td>1</td>\n",
       "      <td>0</td>\n",
       "      <td>0</td>\n",
       "      <td>0</td>\n",
       "      <td>1</td>\n",
       "      <td>0</td>\n",
       "      <td>0</td>\n",
       "      <td>0</td>\n",
       "      <td>0</td>\n",
       "      <td>76.3</td>\n",
       "      <td>C</td>\n",
       "    </tr>\n",
       "  </tbody>\n",
       "</table>\n",
       "</div>"
      ],
      "text/plain": [
       "   Gender_female  education_associate's degree  education_bachelor's degree  \\\n",
       "0              1                             0                            1   \n",
       "1              1                             0                            0   \n",
       "2              1                             0                            0   \n",
       "3              0                             1                            0   \n",
       "4              0                             0                            0   \n",
       "\n",
       "   education_high school  education_master's degree  education_some college  \\\n",
       "0                      0                          0                       0   \n",
       "1                      0                          0                       1   \n",
       "2                      0                          1                       0   \n",
       "3                      0                          0                       0   \n",
       "4                      0                          0                       1   \n",
       "\n",
       "   education_some high school  race_group A  race_group B  race_group C  \\\n",
       "0                           0             0             1             0   \n",
       "1                           0             0             0             1   \n",
       "2                           0             0             1             0   \n",
       "3                           0             1             0             0   \n",
       "4                           0             0             0             1   \n",
       "\n",
       "   race_group D  race_group E  lunch_free/reduced  prepare_completed  Score  \\\n",
       "0             0             0                   0                  0   72.6   \n",
       "1             0             0                   0                  1   82.3   \n",
       "2             0             0                   0                  0   92.6   \n",
       "3             0             0                   1                  0   49.3   \n",
       "4             0             0                   0                  0   76.3   \n",
       "\n",
       "  Grade  \n",
       "0     C  \n",
       "1     B  \n",
       "2     A  \n",
       "3     D  \n",
       "4     C  "
      ]
     },
     "execution_count": 20,
     "metadata": {},
     "output_type": "execute_result"
    }
   ],
   "source": [
    "data_exam.head()"
   ]
  },
  {
   "cell_type": "code",
   "execution_count": 22,
   "metadata": {},
   "outputs": [
    {
     "data": {
      "text/html": [
       "<div>\n",
       "<style scoped>\n",
       "    .dataframe tbody tr th:only-of-type {\n",
       "        vertical-align: middle;\n",
       "    }\n",
       "\n",
       "    .dataframe tbody tr th {\n",
       "        vertical-align: top;\n",
       "    }\n",
       "\n",
       "    .dataframe thead th {\n",
       "        text-align: right;\n",
       "    }\n",
       "</style>\n",
       "<table border=\"1\" class=\"dataframe\">\n",
       "  <thead>\n",
       "    <tr style=\"text-align: right;\">\n",
       "      <th></th>\n",
       "      <th>Gender_female</th>\n",
       "      <th>education_associate's degree</th>\n",
       "      <th>education_bachelor's degree</th>\n",
       "      <th>education_high school</th>\n",
       "      <th>education_master's degree</th>\n",
       "      <th>education_some college</th>\n",
       "      <th>education_some high school</th>\n",
       "      <th>race_group A</th>\n",
       "      <th>race_group B</th>\n",
       "      <th>race_group C</th>\n",
       "      <th>race_group D</th>\n",
       "      <th>race_group E</th>\n",
       "      <th>lunch_free/reduced</th>\n",
       "      <th>prepare_completed</th>\n",
       "    </tr>\n",
       "  </thead>\n",
       "  <tbody>\n",
       "    <tr>\n",
       "      <th>0</th>\n",
       "      <td>1</td>\n",
       "      <td>0</td>\n",
       "      <td>1</td>\n",
       "      <td>0</td>\n",
       "      <td>0</td>\n",
       "      <td>0</td>\n",
       "      <td>0</td>\n",
       "      <td>0</td>\n",
       "      <td>1</td>\n",
       "      <td>0</td>\n",
       "      <td>0</td>\n",
       "      <td>0</td>\n",
       "      <td>0</td>\n",
       "      <td>0</td>\n",
       "    </tr>\n",
       "    <tr>\n",
       "      <th>1</th>\n",
       "      <td>1</td>\n",
       "      <td>0</td>\n",
       "      <td>0</td>\n",
       "      <td>0</td>\n",
       "      <td>0</td>\n",
       "      <td>1</td>\n",
       "      <td>0</td>\n",
       "      <td>0</td>\n",
       "      <td>0</td>\n",
       "      <td>1</td>\n",
       "      <td>0</td>\n",
       "      <td>0</td>\n",
       "      <td>0</td>\n",
       "      <td>1</td>\n",
       "    </tr>\n",
       "    <tr>\n",
       "      <th>2</th>\n",
       "      <td>1</td>\n",
       "      <td>0</td>\n",
       "      <td>0</td>\n",
       "      <td>0</td>\n",
       "      <td>1</td>\n",
       "      <td>0</td>\n",
       "      <td>0</td>\n",
       "      <td>0</td>\n",
       "      <td>1</td>\n",
       "      <td>0</td>\n",
       "      <td>0</td>\n",
       "      <td>0</td>\n",
       "      <td>0</td>\n",
       "      <td>0</td>\n",
       "    </tr>\n",
       "    <tr>\n",
       "      <th>3</th>\n",
       "      <td>0</td>\n",
       "      <td>1</td>\n",
       "      <td>0</td>\n",
       "      <td>0</td>\n",
       "      <td>0</td>\n",
       "      <td>0</td>\n",
       "      <td>0</td>\n",
       "      <td>1</td>\n",
       "      <td>0</td>\n",
       "      <td>0</td>\n",
       "      <td>0</td>\n",
       "      <td>0</td>\n",
       "      <td>1</td>\n",
       "      <td>0</td>\n",
       "    </tr>\n",
       "    <tr>\n",
       "      <th>4</th>\n",
       "      <td>0</td>\n",
       "      <td>0</td>\n",
       "      <td>0</td>\n",
       "      <td>0</td>\n",
       "      <td>0</td>\n",
       "      <td>1</td>\n",
       "      <td>0</td>\n",
       "      <td>0</td>\n",
       "      <td>0</td>\n",
       "      <td>1</td>\n",
       "      <td>0</td>\n",
       "      <td>0</td>\n",
       "      <td>0</td>\n",
       "      <td>0</td>\n",
       "    </tr>\n",
       "  </tbody>\n",
       "</table>\n",
       "</div>"
      ],
      "text/plain": [
       "   Gender_female  education_associate's degree  education_bachelor's degree  \\\n",
       "0              1                             0                            1   \n",
       "1              1                             0                            0   \n",
       "2              1                             0                            0   \n",
       "3              0                             1                            0   \n",
       "4              0                             0                            0   \n",
       "\n",
       "   education_high school  education_master's degree  education_some college  \\\n",
       "0                      0                          0                       0   \n",
       "1                      0                          0                       1   \n",
       "2                      0                          1                       0   \n",
       "3                      0                          0                       0   \n",
       "4                      0                          0                       1   \n",
       "\n",
       "   education_some high school  race_group A  race_group B  race_group C  \\\n",
       "0                           0             0             1             0   \n",
       "1                           0             0             0             1   \n",
       "2                           0             0             1             0   \n",
       "3                           0             1             0             0   \n",
       "4                           0             0             0             1   \n",
       "\n",
       "   race_group D  race_group E  lunch_free/reduced  prepare_completed  \n",
       "0             0             0                   0                  0  \n",
       "1             0             0                   0                  1  \n",
       "2             0             0                   0                  0  \n",
       "3             0             0                   1                  0  \n",
       "4             0             0                   0                  0  "
      ]
     },
     "execution_count": 22,
     "metadata": {},
     "output_type": "execute_result"
    }
   ],
   "source": [
    "# Split data\n",
    "x = data_exam.iloc[:, 0:14]\n",
    "x.head()"
   ]
  },
  {
   "cell_type": "code",
   "execution_count": 23,
   "metadata": {},
   "outputs": [
    {
     "data": {
      "text/plain": [
       "0    72.6\n",
       "1    82.3\n",
       "2    92.6\n",
       "3    49.3\n",
       "4    76.3\n",
       "Name: Score, dtype: float64"
      ]
     },
     "execution_count": 23,
     "metadata": {},
     "output_type": "execute_result"
    }
   ],
   "source": [
    "y = data_exam.iloc[:, 15]\n",
    "y.head()\n",
    "s = data_exam.iloc[:, 14]\n",
    "s.head()"
   ]
  },
  {
   "cell_type": "code",
   "execution_count": 24,
   "metadata": {},
   "outputs": [],
   "source": [
    "from sklearn import preprocessing\n"
   ]
  },
  {
   "cell_type": "code",
   "execution_count": 25,
   "metadata": {},
   "outputs": [],
   "source": [
    "le = preprocessing.LabelEncoder()\n",
    "le.fit(y)\n",
    "y = le.transform(y)\n",
    "\n",
    "Grade = le.classes_\n"
   ]
  },
  {
   "cell_type": "code",
   "execution_count": 30,
   "metadata": {},
   "outputs": [],
   "source": [
    "# package needed\n",
    "from sklearn.model_selection import train_test_split\n",
    "from sklearn.neighbors import KNeighborsClassifier\n",
    "from sklearn import metrics"
   ]
  },
  {
   "cell_type": "code",
   "execution_count": 38,
   "metadata": {},
   "outputs": [],
   "source": [
    "x_train,x_test,y_train,y_test = train_test_split(x, y, test_size = 0.25, random_state = 10)\n",
    "s_train,s_test = train_test_split(s, test_size = 0.25, random_state = 10)"
   ]
  },
  {
   "cell_type": "code",
   "execution_count": 39,
   "metadata": {},
   "outputs": [
    {
     "data": {
      "text/plain": [
       "(750, 14)"
      ]
     },
     "execution_count": 39,
     "metadata": {},
     "output_type": "execute_result"
    }
   ],
   "source": [
    "# check train & test has the same length\n",
    "x_train.shape"
   ]
  },
  {
   "cell_type": "code",
   "execution_count": 40,
   "metadata": {},
   "outputs": [
    {
     "data": {
      "text/plain": [
       "(750,)"
      ]
     },
     "execution_count": 40,
     "metadata": {},
     "output_type": "execute_result"
    }
   ],
   "source": [
    "y_train.shape"
   ]
  },
  {
   "cell_type": "code",
   "execution_count": 41,
   "metadata": {},
   "outputs": [
    {
     "data": {
      "text/plain": [
       "(750,)"
      ]
     },
     "execution_count": 41,
     "metadata": {},
     "output_type": "execute_result"
    }
   ],
   "source": [
    "s_train.shape\n"
   ]
  },
  {
   "cell_type": "code",
   "execution_count": 42,
   "metadata": {},
   "outputs": [],
   "source": [
    "accuracy_rate = []\n",
    "k_range = list(range(1, 30))\n",
    "for k in k_range:\n",
    "    knn = KNeighborsClassifier(n_neighbors = k)\n",
    "    knn.fit(x_train, y_train)\n",
    "    kprediction = knn.predict(x_test)\n",
    "    accuracy_rate.append(metrics.accuracy_score(kprediction, y_test))\n",
    "    "
   ]
  },
  {
   "cell_type": "code",
   "execution_count": 43,
   "metadata": {
    "scrolled": false
   },
   "outputs": [
    {
     "data": {
      "text/plain": [
       "Text(0, 0.5, 'Accuracy rate')"
      ]
     },
     "execution_count": 43,
     "metadata": {},
     "output_type": "execute_result"
    },
    {
     "data": {
      "image/png": "[encoded data removed]",
      "text/plain": [
       "<Figure size 432x288 with 1 Axes>"
      ]
     },
     "metadata": {
      "needs_background": "light"
     },
     "output_type": "display_data"
    }
   ],
   "source": [
    "plt.plot(k_range, accuracy_rate)\n",
    "plt.xlabel('k_value')\n",
    "plt.ylabel('Accuracy rate')"
   ]
  },
  {
   "cell_type": "raw",
   "metadata": {},
   "source": [
    "# We could see that in this case, knn has the best performance when k is 14."
   ]
  },
  {
   "cell_type": "code",
   "execution_count": 44,
   "metadata": {},
   "outputs": [],
   "source": [
    "from sklearn.linear_model import LogisticRegression\n",
    "lreg = LogisticRegression()"
   ]
  },
  {
   "cell_type": "code",
   "execution_count": 48,
   "metadata": {},
   "outputs": [
    {
     "data": {
      "text/plain": [
       "LogisticRegression()"
      ]
     },
     "execution_count": 48,
     "metadata": {},
     "output_type": "execute_result"
    }
   ],
   "source": [
    "lreg.fit(x_train,y_train)"
   ]
  },
  {
   "cell_type": "code",
   "execution_count": 51,
   "metadata": {},
   "outputs": [
    {
     "name": "stdout",
     "output_type": "stream",
     "text": [
      "0.54\n"
     ]
    }
   ],
   "source": [
    "lrpred = lreg.predict(x_test)\n",
    "Logistic_regression_result = metrics.accuracy_score(lrpred, y_test)\n",
    "print (Logistic_regression_result)"
   ]
  },
  {
   "cell_type": "raw",
   "metadata": {},
   "source": [
    "# This is better, about the best accuracy of knn algorithm"
   ]
  },
  {
   "cell_type": "code",
   "execution_count": 247,
   "metadata": {},
   "outputs": [],
   "source": [
    "from sklearn import tree\n",
    "from sklearn.tree import DecisionTreeClassifier"
   ]
  },
  {
   "cell_type": "code",
   "execution_count": 274,
   "metadata": {},
   "outputs": [
    {
     "data": {
      "image/png": "[encoded data removed]",
      "text/plain": [
       "<Figure size 432x288 with 1 Axes>"
      ]
     },
     "metadata": {
      "needs_background": "light"
     },
     "output_type": "display_data"
    }
   ],
   "source": [
    "dt_result = []\n",
    "tree_depth = list(range(1, 6))\n",
    "for depth in tree_depth:\n",
    "    dt = DecisionTreeClassifier(random_state = 0, max_depth = depth)\n",
    "    dt.fit(x_train,y_train)\n",
    "    dtprediction = dt.predict(x_test)\n",
    "    DT_result = metrics.accuracy_score(dtprediction,y_test)\n",
    "    dt_result.append(DT_result)\n",
    "    tree.plot_tree(dt) # Tree when depth is 6"
   ]
  },
  {
   "cell_type": "code",
   "execution_count": 270,
   "metadata": {},
   "outputs": [
    {
     "data": {
      "text/plain": [
       "[<matplotlib.lines.Line2D at 0x125e55bb0>]"
      ]
     },
     "execution_count": 270,
     "metadata": {},
     "output_type": "execute_result"
    },
    {
     "data": {
      "image/png": "[encoded data removed]",
      "text/plain": [
       "<Figure size 432x288 with 1 Axes>"
      ]
     },
     "metadata": {
      "needs_background": "light"
     },
     "output_type": "display_data"
    }
   ],
   "source": [
    "plt.plot(tree_depth, dt_result)\n"
   ]
  },
  {
   "cell_type": "raw",
   "metadata": {},
   "source": [
    "# We could see that when depth is 2, it has the best preformance."
   ]
  },
  {
   "cell_type": "code",
   "execution_count": 81,
   "metadata": {},
   "outputs": [],
   "source": [
    "from sklearn.svm import SVR"
   ]
  },
  {
   "cell_type": "code",
   "execution_count": 101,
   "metadata": {},
   "outputs": [],
   "source": [
    "svr_kernel = SVR(kernel = 'rbf', C = 1e3, gamma=0.1)\n",
    "svr_linear = SVR(kernel = 'linear', C = 1e3)\n",
    "svr_poly = SVR(kernel = 'poly', C = 1e3, degree=0.5)"
   ]
  },
  {
   "cell_type": "code",
   "execution_count": 102,
   "metadata": {},
   "outputs": [
    {
     "name": "stdout",
     "output_type": "stream",
     "text": [
      "SVR_kernel:  0.516 SVR_linear:  0.512 SVR_poly:  0.548\n"
     ]
    }
   ],
   "source": [
    "svr_kernel.fit(x_train, s_train)\n",
    "svr_linear.fit(x_train,s_train)\n",
    "svr_poly.fit(x_train,s_train)\n",
    "svrpred1 = svr_kernel.predict(x_test)\n",
    "svrpred2 = svr_linear.predict(x_test)\n",
    "svrpred3 = svr_poly.predict(x_test)\n",
    "grade1 = []\n",
    "grade2 = []\n",
    "grade3 = []\n",
    "for i in range(len(x_test)):\n",
    "    if svrpred1[i] >= 90:\n",
    "        grade1.append(0)\n",
    "    elif 80 <= svrpred1[i] < 90:\n",
    "        grade1.append(1)\n",
    "    elif 70 <= svrpred1[i] < 80:\n",
    "        grade1.append(2)\n",
    "    else:\n",
    "        grade1.append(3)\n",
    "    if svrpred2[i] >= 90:\n",
    "        grade2.append(0)\n",
    "    elif 80 <= svrpred2[i] < 90:\n",
    "        grade2.append(1)\n",
    "    elif 70 <= svrpred2[i] < 80:\n",
    "        grade2.append(2)\n",
    "    else:\n",
    "        grade2.append(3)\n",
    "    if svrpred3[i] >= 90:\n",
    "        grade3.append(0)\n",
    "    elif 80 <= svrpred3[i] < 90:\n",
    "        grade3.append(1)\n",
    "    elif 70 <= svrpred3[i] < 80:\n",
    "        grade3.append(2)\n",
    "    else:\n",
    "        grade3.append(3)\n",
    "kernel = metrics.accuracy_score(grade1, y_test)\n",
    "linear = metrics.accuracy_score(grade2, y_test)\n",
    "poly = metrics.accuracy_score(grade3, y_test)\n",
    "print ('SVR_kernel: ', kernel, 'SVR_linear: ', linear, 'SVR_poly: ', poly) "
   ]
  },
  {
   "cell_type": "code",
   "execution_count": null,
   "metadata": {},
   "outputs": [],
   "source": []
  },
  {
   "cell_type": "code",
   "execution_count": null,
   "metadata": {},
   "outputs": [],
   "source": []
  },
  {
   "cell_type": "code",
   "execution_count": null,
   "metadata": {},
   "outputs": [],
   "source": []
  }
 ],
 "metadata": {
  "kernelspec": {
   "display_name": "Python 3",
   "language": "python",
   "name": "python3"
  },
  "language_info": {
   "codemirror_mode": {
    "name": "ipython",
    "version": 3
   },
   "file_extension": ".py",
   "mimetype": "text/x-python",
   "name": "python",
   "nbconvert_exporter": "python",
   "pygments_lexer": "ipython3",
   "version": "3.8.5"
  }
 },
 "nbformat": 4,
 "nbformat_minor": 4
}
